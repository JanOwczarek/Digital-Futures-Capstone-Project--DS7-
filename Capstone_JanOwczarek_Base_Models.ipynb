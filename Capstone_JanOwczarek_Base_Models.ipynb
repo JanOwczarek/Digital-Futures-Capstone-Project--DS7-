{
 "cells": [
  {
   "cell_type": "markdown",
   "source": [
    "### COVID-19 Dataset Base Models\n",
    "##### Here, I took a sample of the data and ran three different models, testing precision and f1-score for each. These models are K-Nearest Neighbors, Random Forest and Logistic Regression."
   ],
   "metadata": {
    "collapsed": false
   }
  },
  {
   "cell_type": "markdown",
   "source": [
    "#### Content:\n",
    "##### 1) Importing Packages\n",
    "##### 2) Reading Into Data\n",
    "##### 3) Train Test Splitting\n",
    "##### 4) Min Max Scaling\n",
    "##### 5) Random Under-Sampling\n",
    "##### 6) Necessary Functions\n",
    "##### 7) K-Nearest Neighbors\n",
    "##### 8) Random Forest\n",
    "##### 9) Logistic Regression\n",
    "##### 10) Summary"
   ],
   "metadata": {
    "collapsed": false
   }
  },
  {
   "cell_type": "markdown",
   "source": [
    "### 1) Importing Packages"
   ],
   "metadata": {
    "collapsed": false
   }
  },
  {
   "cell_type": "code",
   "execution_count": 1,
   "outputs": [],
   "source": [
    "import pandas as pd\n",
    "import numpy as np\n",
    "import matplotlib.pyplot as plt\n",
    "\n",
    "from sklearn.preprocessing import MinMaxScaler\n",
    "from sklearn.model_selection import train_test_split, GridSearchCV\n",
    "from imblearn.under_sampling import RandomUnderSampler\n",
    "\n",
    "from sklearn.neighbors import KNeighborsClassifier\n",
    "from sklearn import metrics\n",
    "\n",
    "from sklearn.ensemble import RandomForestClassifier\n",
    "from sklearn.linear_model import LogisticRegression"
   ],
   "metadata": {
    "collapsed": false
   }
  },
  {
   "cell_type": "markdown",
   "source": [
    "### 2) Reading into data"
   ],
   "metadata": {
    "collapsed": false
   }
  },
  {
   "cell_type": "code",
   "execution_count": 3,
   "outputs": [],
   "source": [
    "df = pd.read_csv('COVID_Clean_Data_OHE.csv')"
   ],
   "metadata": {
    "collapsed": false
   }
  },
  {
   "cell_type": "code",
   "execution_count": 4,
   "outputs": [
    {
     "data": {
      "text/plain": "   Unnamed: 0  USMER  SEX  PATIENT_TYPE  PNEUMONIA  AGE  PREGNANT  DIABETES  \\\n0           0      2    1             1          1   65         2         2   \n1           1      2    2             1          1   72         2         2   \n2           2      2    2             2          2   55         2         1   \n3           3      2    1             1          2   53         2         2   \n4           4      2    2             1          2   68         2         1   \n\n   COPD  ASTHMA  ...  MEDICAL_UNIT_5  MEDICAL_UNIT_6  MEDICAL_UNIT_7  \\\n0     2       2  ...               0               0               0   \n1     2       2  ...               0               0               0   \n2     2       2  ...               0               0               0   \n3     2       2  ...               0               0               0   \n4     2       2  ...               0               0               0   \n\n   MEDICAL_UNIT_8  MEDICAL_UNIT_9  MEDICAL_UNIT_10  MEDICAL_UNIT_11  \\\n0               0               0                0                0   \n1               0               0                0                0   \n2               0               0                0                0   \n3               0               0                0                0   \n4               0               0                0                0   \n\n   MEDICAL_UNIT_12  MEDICAL_UNIT_13  DEATH  \n0                0                0      1  \n1                0                0      1  \n2                0                0      1  \n3                0                0      1  \n4                0                0      1  \n\n[5 rows x 38 columns]",
      "text/html": "<div>\n<style scoped>\n    .dataframe tbody tr th:only-of-type {\n        vertical-align: middle;\n    }\n\n    .dataframe tbody tr th {\n        vertical-align: top;\n    }\n\n    .dataframe thead th {\n        text-align: right;\n    }\n</style>\n<table border=\"1\" class=\"dataframe\">\n  <thead>\n    <tr style=\"text-align: right;\">\n      <th></th>\n      <th>Unnamed: 0</th>\n      <th>USMER</th>\n      <th>SEX</th>\n      <th>PATIENT_TYPE</th>\n      <th>PNEUMONIA</th>\n      <th>AGE</th>\n      <th>PREGNANT</th>\n      <th>DIABETES</th>\n      <th>COPD</th>\n      <th>ASTHMA</th>\n      <th>...</th>\n      <th>MEDICAL_UNIT_5</th>\n      <th>MEDICAL_UNIT_6</th>\n      <th>MEDICAL_UNIT_7</th>\n      <th>MEDICAL_UNIT_8</th>\n      <th>MEDICAL_UNIT_9</th>\n      <th>MEDICAL_UNIT_10</th>\n      <th>MEDICAL_UNIT_11</th>\n      <th>MEDICAL_UNIT_12</th>\n      <th>MEDICAL_UNIT_13</th>\n      <th>DEATH</th>\n    </tr>\n  </thead>\n  <tbody>\n    <tr>\n      <th>0</th>\n      <td>0</td>\n      <td>2</td>\n      <td>1</td>\n      <td>1</td>\n      <td>1</td>\n      <td>65</td>\n      <td>2</td>\n      <td>2</td>\n      <td>2</td>\n      <td>2</td>\n      <td>...</td>\n      <td>0</td>\n      <td>0</td>\n      <td>0</td>\n      <td>0</td>\n      <td>0</td>\n      <td>0</td>\n      <td>0</td>\n      <td>0</td>\n      <td>0</td>\n      <td>1</td>\n    </tr>\n    <tr>\n      <th>1</th>\n      <td>1</td>\n      <td>2</td>\n      <td>2</td>\n      <td>1</td>\n      <td>1</td>\n      <td>72</td>\n      <td>2</td>\n      <td>2</td>\n      <td>2</td>\n      <td>2</td>\n      <td>...</td>\n      <td>0</td>\n      <td>0</td>\n      <td>0</td>\n      <td>0</td>\n      <td>0</td>\n      <td>0</td>\n      <td>0</td>\n      <td>0</td>\n      <td>0</td>\n      <td>1</td>\n    </tr>\n    <tr>\n      <th>2</th>\n      <td>2</td>\n      <td>2</td>\n      <td>2</td>\n      <td>2</td>\n      <td>2</td>\n      <td>55</td>\n      <td>2</td>\n      <td>1</td>\n      <td>2</td>\n      <td>2</td>\n      <td>...</td>\n      <td>0</td>\n      <td>0</td>\n      <td>0</td>\n      <td>0</td>\n      <td>0</td>\n      <td>0</td>\n      <td>0</td>\n      <td>0</td>\n      <td>0</td>\n      <td>1</td>\n    </tr>\n    <tr>\n      <th>3</th>\n      <td>3</td>\n      <td>2</td>\n      <td>1</td>\n      <td>1</td>\n      <td>2</td>\n      <td>53</td>\n      <td>2</td>\n      <td>2</td>\n      <td>2</td>\n      <td>2</td>\n      <td>...</td>\n      <td>0</td>\n      <td>0</td>\n      <td>0</td>\n      <td>0</td>\n      <td>0</td>\n      <td>0</td>\n      <td>0</td>\n      <td>0</td>\n      <td>0</td>\n      <td>1</td>\n    </tr>\n    <tr>\n      <th>4</th>\n      <td>4</td>\n      <td>2</td>\n      <td>2</td>\n      <td>1</td>\n      <td>2</td>\n      <td>68</td>\n      <td>2</td>\n      <td>1</td>\n      <td>2</td>\n      <td>2</td>\n      <td>...</td>\n      <td>0</td>\n      <td>0</td>\n      <td>0</td>\n      <td>0</td>\n      <td>0</td>\n      <td>0</td>\n      <td>0</td>\n      <td>0</td>\n      <td>0</td>\n      <td>1</td>\n    </tr>\n  </tbody>\n</table>\n<p>5 rows × 38 columns</p>\n</div>"
     },
     "execution_count": 4,
     "metadata": {},
     "output_type": "execute_result"
    }
   ],
   "source": [
    "df.head()"
   ],
   "metadata": {
    "collapsed": false
   }
  },
  {
   "cell_type": "code",
   "execution_count": 5,
   "outputs": [
    {
     "data": {
      "text/plain": "Index(['USMER', 'SEX', 'PATIENT_TYPE', 'PNEUMONIA', 'AGE', 'PREGNANT',\n       'DIABETES', 'COPD', 'ASTHMA', 'INMSUPR', 'HIPERTENSION',\n       'OTHER_DISEASE', 'CARDIOVASCULAR', 'OBESITY', 'RENAL_CHRONIC',\n       'TOBACCO', 'CLASIFFICATION_FINAL_1', 'CLASIFFICATION_FINAL_2',\n       'CLASIFFICATION_FINAL_3', 'CLASIFFICATION_FINAL_4',\n       'CLASIFFICATION_FINAL_5', 'CLASIFFICATION_FINAL_6',\n       'CLASIFFICATION_FINAL_7', 'MEDICAL_UNIT_1', 'MEDICAL_UNIT_2',\n       'MEDICAL_UNIT_3', 'MEDICAL_UNIT_4', 'MEDICAL_UNIT_5', 'MEDICAL_UNIT_6',\n       'MEDICAL_UNIT_7', 'MEDICAL_UNIT_8', 'MEDICAL_UNIT_9', 'MEDICAL_UNIT_10',\n       'MEDICAL_UNIT_11', 'MEDICAL_UNIT_12', 'MEDICAL_UNIT_13', 'DEATH'],\n      dtype='object')"
     },
     "execution_count": 5,
     "metadata": {},
     "output_type": "execute_result"
    }
   ],
   "source": [
    "df.drop(columns='Unnamed: 0',inplace=True)\n",
    "df.columns"
   ],
   "metadata": {
    "collapsed": false
   }
  },
  {
   "cell_type": "code",
   "execution_count": 6,
   "outputs": [],
   "source": [
    "df = df.sample(n=4000,random_state=42)"
   ],
   "metadata": {
    "collapsed": false
   }
  },
  {
   "cell_type": "markdown",
   "source": [
    "### 3) Train Test Splitting"
   ],
   "metadata": {
    "collapsed": false
   }
  },
  {
   "cell_type": "code",
   "execution_count": 7,
   "outputs": [],
   "source": [
    "features = ['USMER', 'SEX', 'PATIENT_TYPE', 'PNEUMONIA', 'AGE', 'PREGNANT',\n",
    "            'DIABETES', 'COPD', 'ASTHMA', 'INMSUPR', 'HIPERTENSION',\n",
    "            'OTHER_DISEASE', 'CARDIOVASCULAR', 'OBESITY', 'RENAL_CHRONIC',\n",
    "            'TOBACCO', 'CLASIFFICATION_FINAL_1', 'CLASIFFICATION_FINAL_2',\n",
    "            'CLASIFFICATION_FINAL_3', 'CLASIFFICATION_FINAL_4',\n",
    "            'CLASIFFICATION_FINAL_5', 'CLASIFFICATION_FINAL_6',\n",
    "            'CLASIFFICATION_FINAL_7', 'MEDICAL_UNIT_1', 'MEDICAL_UNIT_2',\n",
    "            'MEDICAL_UNIT_3', 'MEDICAL_UNIT_4', 'MEDICAL_UNIT_5', 'MEDICAL_UNIT_6',\n",
    "            'MEDICAL_UNIT_7', 'MEDICAL_UNIT_8', 'MEDICAL_UNIT_9', 'MEDICAL_UNIT_10',\n",
    "            'MEDICAL_UNIT_11', 'MEDICAL_UNIT_12', 'MEDICAL_UNIT_13']\n",
    "X = df[features]\n",
    "y = df['DEATH']"
   ],
   "metadata": {
    "collapsed": false
   }
  },
  {
   "cell_type": "code",
   "execution_count": 8,
   "outputs": [],
   "source": [
    "X_train, X_test, y_train, y_test = train_test_split(X, y, test_size=0.2, random_state=42, stratify=y)\n",
    "### Stratify y to get equal distribution of 'DEATH' values in train and test"
   ],
   "metadata": {
    "collapsed": false
   }
  },
  {
   "cell_type": "code",
   "execution_count": 9,
   "outputs": [
    {
     "name": "stdout",
     "output_type": "stream",
     "text": [
      "(3200, 36)\n",
      "(3200,)\n",
      "(800, 36)\n",
      "(800,)\n"
     ]
    }
   ],
   "source": [
    "for x in [X_train,y_train,X_test,y_test]:\n",
    "    print(x.shape)"
   ],
   "metadata": {
    "collapsed": false
   }
  },
  {
   "cell_type": "markdown",
   "source": [
    "### 4) MinMax Scaling\n",
    "##### Decided to MinMax scale for Logistic regression and K-Nearest Neighbors so that the variables are weighted fairly when fitting. Later on for logistic regression z-score standard scaling will be used."
   ],
   "metadata": {
    "collapsed": false
   }
  },
  {
   "cell_type": "code",
   "execution_count": 10,
   "outputs": [],
   "source": [
    "def scaling(train,test,scaler_class):\n",
    "    \"\"\"Standardizing/scaling the data. Assumes all columns need to be scaled.\"\"\"\n",
    "    cols = train.columns\n",
    "    scaler = scaler_class\n",
    "\n",
    "    index_train = train.index\n",
    "    train = scaler.fit_transform(train)\n",
    "    train = pd.DataFrame(train, columns=cols,index=index_train)\n",
    "\n",
    "    index_test = test.index\n",
    "    test = scaler.transform(test)\n",
    "    test = pd.DataFrame(test,columns=cols,index=index_test)\n",
    "\n",
    "    return train, test"
   ],
   "metadata": {
    "collapsed": false
   }
  },
  {
   "cell_type": "code",
   "execution_count": 11,
   "outputs": [],
   "source": [
    "X_train_mm, X_test_mm = scaling(train=X_train,test=X_test,scaler_class=MinMaxScaler())"
   ],
   "metadata": {
    "collapsed": false
   }
  },
  {
   "cell_type": "code",
   "execution_count": null,
   "outputs": [],
   "source": [
    "#X_train_ss, X_test_ss = scaling(train=X_train,test=X_test,scaler_class=StandardScaler())"
   ],
   "metadata": {
    "collapsed": false
   }
  },
  {
   "cell_type": "markdown",
   "source": [
    "### 5) Random under-sampling\n",
    "##### For the base models I will under-sample to deal with the class imbalance, further along the line SMOTE and the combination of SMOTE and under-sampling will be tested."
   ],
   "metadata": {
    "collapsed": false
   }
  },
  {
   "cell_type": "code",
   "execution_count": 12,
   "outputs": [],
   "source": [
    "under = RandomUnderSampler(sampling_strategy=1,random_state=42)### we want the majority to reduce till it is the size of the minority"
   ],
   "metadata": {
    "collapsed": false
   }
  },
  {
   "cell_type": "code",
   "execution_count": 13,
   "outputs": [],
   "source": [
    "X_train_mm_u,y_train_u = under.fit_resample(X_train_mm,y_train)"
   ],
   "metadata": {
    "collapsed": false
   }
  },
  {
   "cell_type": "code",
   "execution_count": 14,
   "outputs": [
    {
     "data": {
      "text/plain": "0    222\n1    222\nName: DEATH, dtype: int64"
     },
     "execution_count": 14,
     "metadata": {},
     "output_type": "execute_result"
    }
   ],
   "source": [
    "y_train_u.value_counts()"
   ],
   "metadata": {
    "collapsed": false
   }
  },
  {
   "cell_type": "markdown",
   "source": [
    "### 6) Necessary functions\n",
    "##### Defining a few functions that will be necessary for this quick analysis."
   ],
   "metadata": {
    "collapsed": false
   }
  },
  {
   "cell_type": "code",
   "execution_count": 29,
   "outputs": [],
   "source": [
    "def drop(X):\n",
    "    '''Drops certain columns that are commonly created for train and test data by virtue of predicting.'''\n",
    "    for i in ['DEATH','prob_survive','prob_die','y_pred']:\n",
    "        try:\n",
    "            X.drop(columns=i,inplace=True)\n",
    "        except KeyError:\n",
    "            print(f'Column {i} doesn\\'t exist')\n",
    "            continue"
   ],
   "metadata": {
    "collapsed": false
   }
  },
  {
   "cell_type": "code",
   "execution_count": null,
   "outputs": [],
   "source": [
    "def cutoff_iterator(X, y, iterations, accuracy=[], precision=[], f1_score=[]):\n",
    "    \"\"\"Works through many cutoff points and outputs precision and recall scores.\n",
    "    Requires sklearn metrics package.\"\"\"\n",
    "    for i in iterations:\n",
    "        X['y_pred'] = np.where(X['prob_die'] > i, 1, 0)\n",
    "        accuracy.append(metrics.accuracy_score(y, X['y_pred']))\n",
    "        precision.append(metrics.precision_score(y, X['y_pred']))\n",
    "        f1_score.append(metrics.f1_score(y, X['y_pred']))\n",
    "    dict_2 = {'Cut_Off_Points': iterations,\n",
    "              'Accuracy': accuracy,\n",
    "              'Precision': precision,\n",
    "              'F1': f1_score}\n",
    "    metrics_table = pd.DataFrame(dict_2)\n",
    "    return metrics_table"
   ],
   "metadata": {
    "collapsed": false
   }
  },
  {
   "cell_type": "code",
   "execution_count": null,
   "outputs": [],
   "source": [
    "def grid_search(param_dict,classifier_object,folds,X,y):\n",
    "    \"\"\"Grid search finding the best parameters. Requires gridsearch package.\"\"\"\n",
    "    gs = GridSearchCV(classifier_object, param_grid=param_dict, cv=folds, scoring=['precision','f1'], refit='precision')\n",
    "    gs.fit(X,y)\n",
    "    print(gs.best_score_)\n",
    "    print(gs.best_params_)\n",
    "### N.B. Grid search will only be used for random forest model as there are many hyper-parameters that need to be tuned."
   ],
   "metadata": {
    "collapsed": false
   }
  },
  {
   "cell_type": "markdown",
   "source": [
    "### 7) K-Nearest Neighbors"
   ],
   "metadata": {
    "collapsed": false
   }
  },
  {
   "cell_type": "code",
   "execution_count": 15,
   "outputs": [],
   "source": [
    "def KNN_select(X,y):\n",
    "    errors = []\n",
    "    for i in range(2,15):\n",
    "        knn = KNeighborsClassifier(n_neighbors=i)\n",
    "        knn.fit(X,y)\n",
    "        pred_y = knn.predict(X)\n",
    "        errors.append(np.mean(pred_y != y))\n",
    "\n",
    "    ##Plotting to select\n",
    "    plt.figure(figsize=(12, 6))\n",
    "    plt.plot(range(2,15)\n",
    "         , errors\n",
    "         , color='RED'\n",
    "         , linestyle='dashed'\n",
    "         , marker='o'\n",
    "         , markerfacecolor='blue'\n",
    "         , markersize=10)\n",
    "    plt.title('Error Rate K Value')\n",
    "    plt.xlabel('K Value')\n",
    "    plt.ylabel('Mean Error')\n",
    "    plt.show()"
   ],
   "metadata": {
    "collapsed": false
   }
  },
  {
   "cell_type": "code",
   "execution_count": 16,
   "outputs": [
    {
     "name": "stderr",
     "output_type": "stream",
     "text": [
      "C:\\Users\\Jan\\anaconda3\\lib\\site-packages\\sklearn\\neighbors\\_classification.py:228: FutureWarning: Unlike other reduction functions (e.g. `skew`, `kurtosis`), the default behavior of `mode` typically preserves the axis it acts along. In SciPy 1.11.0, this behavior will change: the default value of `keepdims` will become False, the `axis` over which the statistic is taken will be eliminated, and the value None will no longer be accepted. Set `keepdims` to True or False to avoid this warning.\n",
      "  mode, _ = stats.mode(_y[neigh_ind, k], axis=1)\n",
      "C:\\Users\\Jan\\anaconda3\\lib\\site-packages\\sklearn\\neighbors\\_classification.py:228: FutureWarning: Unlike other reduction functions (e.g. `skew`, `kurtosis`), the default behavior of `mode` typically preserves the axis it acts along. In SciPy 1.11.0, this behavior will change: the default value of `keepdims` will become False, the `axis` over which the statistic is taken will be eliminated, and the value None will no longer be accepted. Set `keepdims` to True or False to avoid this warning.\n",
      "  mode, _ = stats.mode(_y[neigh_ind, k], axis=1)\n",
      "C:\\Users\\Jan\\anaconda3\\lib\\site-packages\\sklearn\\neighbors\\_classification.py:228: FutureWarning: Unlike other reduction functions (e.g. `skew`, `kurtosis`), the default behavior of `mode` typically preserves the axis it acts along. In SciPy 1.11.0, this behavior will change: the default value of `keepdims` will become False, the `axis` over which the statistic is taken will be eliminated, and the value None will no longer be accepted. Set `keepdims` to True or False to avoid this warning.\n",
      "  mode, _ = stats.mode(_y[neigh_ind, k], axis=1)\n",
      "C:\\Users\\Jan\\anaconda3\\lib\\site-packages\\sklearn\\neighbors\\_classification.py:228: FutureWarning: Unlike other reduction functions (e.g. `skew`, `kurtosis`), the default behavior of `mode` typically preserves the axis it acts along. In SciPy 1.11.0, this behavior will change: the default value of `keepdims` will become False, the `axis` over which the statistic is taken will be eliminated, and the value None will no longer be accepted. Set `keepdims` to True or False to avoid this warning.\n",
      "  mode, _ = stats.mode(_y[neigh_ind, k], axis=1)\n",
      "C:\\Users\\Jan\\anaconda3\\lib\\site-packages\\sklearn\\neighbors\\_classification.py:228: FutureWarning: Unlike other reduction functions (e.g. `skew`, `kurtosis`), the default behavior of `mode` typically preserves the axis it acts along. In SciPy 1.11.0, this behavior will change: the default value of `keepdims` will become False, the `axis` over which the statistic is taken will be eliminated, and the value None will no longer be accepted. Set `keepdims` to True or False to avoid this warning.\n",
      "  mode, _ = stats.mode(_y[neigh_ind, k], axis=1)\n",
      "C:\\Users\\Jan\\anaconda3\\lib\\site-packages\\sklearn\\neighbors\\_classification.py:228: FutureWarning: Unlike other reduction functions (e.g. `skew`, `kurtosis`), the default behavior of `mode` typically preserves the axis it acts along. In SciPy 1.11.0, this behavior will change: the default value of `keepdims` will become False, the `axis` over which the statistic is taken will be eliminated, and the value None will no longer be accepted. Set `keepdims` to True or False to avoid this warning.\n",
      "  mode, _ = stats.mode(_y[neigh_ind, k], axis=1)\n",
      "C:\\Users\\Jan\\anaconda3\\lib\\site-packages\\sklearn\\neighbors\\_classification.py:228: FutureWarning: Unlike other reduction functions (e.g. `skew`, `kurtosis`), the default behavior of `mode` typically preserves the axis it acts along. In SciPy 1.11.0, this behavior will change: the default value of `keepdims` will become False, the `axis` over which the statistic is taken will be eliminated, and the value None will no longer be accepted. Set `keepdims` to True or False to avoid this warning.\n",
      "  mode, _ = stats.mode(_y[neigh_ind, k], axis=1)\n",
      "C:\\Users\\Jan\\anaconda3\\lib\\site-packages\\sklearn\\neighbors\\_classification.py:228: FutureWarning: Unlike other reduction functions (e.g. `skew`, `kurtosis`), the default behavior of `mode` typically preserves the axis it acts along. In SciPy 1.11.0, this behavior will change: the default value of `keepdims` will become False, the `axis` over which the statistic is taken will be eliminated, and the value None will no longer be accepted. Set `keepdims` to True or False to avoid this warning.\n",
      "  mode, _ = stats.mode(_y[neigh_ind, k], axis=1)\n",
      "C:\\Users\\Jan\\anaconda3\\lib\\site-packages\\sklearn\\neighbors\\_classification.py:228: FutureWarning: Unlike other reduction functions (e.g. `skew`, `kurtosis`), the default behavior of `mode` typically preserves the axis it acts along. In SciPy 1.11.0, this behavior will change: the default value of `keepdims` will become False, the `axis` over which the statistic is taken will be eliminated, and the value None will no longer be accepted. Set `keepdims` to True or False to avoid this warning.\n",
      "  mode, _ = stats.mode(_y[neigh_ind, k], axis=1)\n",
      "C:\\Users\\Jan\\anaconda3\\lib\\site-packages\\sklearn\\neighbors\\_classification.py:228: FutureWarning: Unlike other reduction functions (e.g. `skew`, `kurtosis`), the default behavior of `mode` typically preserves the axis it acts along. In SciPy 1.11.0, this behavior will change: the default value of `keepdims` will become False, the `axis` over which the statistic is taken will be eliminated, and the value None will no longer be accepted. Set `keepdims` to True or False to avoid this warning.\n",
      "  mode, _ = stats.mode(_y[neigh_ind, k], axis=1)\n",
      "C:\\Users\\Jan\\anaconda3\\lib\\site-packages\\sklearn\\neighbors\\_classification.py:228: FutureWarning: Unlike other reduction functions (e.g. `skew`, `kurtosis`), the default behavior of `mode` typically preserves the axis it acts along. In SciPy 1.11.0, this behavior will change: the default value of `keepdims` will become False, the `axis` over which the statistic is taken will be eliminated, and the value None will no longer be accepted. Set `keepdims` to True or False to avoid this warning.\n",
      "  mode, _ = stats.mode(_y[neigh_ind, k], axis=1)\n",
      "C:\\Users\\Jan\\anaconda3\\lib\\site-packages\\sklearn\\neighbors\\_classification.py:228: FutureWarning: Unlike other reduction functions (e.g. `skew`, `kurtosis`), the default behavior of `mode` typically preserves the axis it acts along. In SciPy 1.11.0, this behavior will change: the default value of `keepdims` will become False, the `axis` over which the statistic is taken will be eliminated, and the value None will no longer be accepted. Set `keepdims` to True or False to avoid this warning.\n",
      "  mode, _ = stats.mode(_y[neigh_ind, k], axis=1)\n",
      "C:\\Users\\Jan\\anaconda3\\lib\\site-packages\\sklearn\\neighbors\\_classification.py:228: FutureWarning: Unlike other reduction functions (e.g. `skew`, `kurtosis`), the default behavior of `mode` typically preserves the axis it acts along. In SciPy 1.11.0, this behavior will change: the default value of `keepdims` will become False, the `axis` over which the statistic is taken will be eliminated, and the value None will no longer be accepted. Set `keepdims` to True or False to avoid this warning.\n",
      "  mode, _ = stats.mode(_y[neigh_ind, k], axis=1)\n"
     ]
    },
    {
     "data": {
      "text/plain": "<Figure size 1200x600 with 1 Axes>",
      "image/png": "[encoded data removed]"
     },
     "metadata": {},
     "output_type": "display_data"
    }
   ],
   "source": [
    "KNN_select(X_train_mm_u,y_train_u)"
   ],
   "metadata": {
    "collapsed": false
   }
  },
  {
   "cell_type": "markdown",
   "source": [
    "##### Smallest error is at k=3"
   ],
   "metadata": {
    "collapsed": false
   }
  },
  {
   "cell_type": "markdown",
   "source": [
    "#### KNN Best Model"
   ],
   "metadata": {
    "collapsed": false
   }
  },
  {
   "cell_type": "code",
   "execution_count": 17,
   "outputs": [
    {
     "data": {
      "text/plain": "KNeighborsClassifier(n_neighbors=3)"
     },
     "execution_count": 17,
     "metadata": {},
     "output_type": "execute_result"
    }
   ],
   "source": [
    "knn = KNeighborsClassifier(n_neighbors=3)\n",
    "knn.fit(X_train_mm_u,y_train_u)\n",
    "#pred_y = knn.predict(X_train_mm_u)"
   ],
   "metadata": {
    "collapsed": false
   }
  },
  {
   "cell_type": "code",
   "execution_count": 18,
   "outputs": [],
   "source": [
    "#### Use predict proba to select best cut_off point\n",
    "X_train_mm_u[['prob_survive', 'prob_die']] = knn.predict_proba(X_train_mm_u)"
   ],
   "metadata": {
    "collapsed": false
   }
  },
  {
   "cell_type": "markdown",
   "source": [
    "##### The cut_off iterator"
   ],
   "metadata": {
    "collapsed": false
   }
  },
  {
   "cell_type": "code",
   "execution_count": 20,
   "outputs": [
    {
     "data": {
      "text/plain": "    Cut_Off_Points  Accuracy  Precision        F1\n0             0.05  0.943694   0.898785  0.946695\n1             0.10  0.943694   0.898785  0.946695\n2             0.15  0.943694   0.898785  0.946695\n3             0.20  0.943694   0.898785  0.946695\n4             0.25  0.943694   0.898785  0.946695\n5             0.30  0.943694   0.898785  0.946695\n6             0.35  0.952703   0.935065  0.953642\n7             0.40  0.952703   0.935065  0.953642\n8             0.45  0.952703   0.935065  0.953642\n9             0.50  0.952703   0.935065  0.953642\n10            0.55  0.952703   0.935065  0.953642\n11            0.60  0.952703   0.935065  0.953642\n12            0.65  0.952703   0.935065  0.953642\n13            0.70  0.891892   1.000000  0.878788\n14            0.75  0.891892   1.000000  0.878788\n15            0.80  0.891892   1.000000  0.878788\n16            0.85  0.891892   1.000000  0.878788\n17            0.90  0.891892   1.000000  0.878788\n18            0.95  0.891892   1.000000  0.878788",
      "text/html": "<div>\n<style scoped>\n    .dataframe tbody tr th:only-of-type {\n        vertical-align: middle;\n    }\n\n    .dataframe tbody tr th {\n        vertical-align: top;\n    }\n\n    .dataframe thead th {\n        text-align: right;\n    }\n</style>\n<table border=\"1\" class=\"dataframe\">\n  <thead>\n    <tr style=\"text-align: right;\">\n      <th></th>\n      <th>Cut_Off_Points</th>\n      <th>Accuracy</th>\n      <th>Precision</th>\n      <th>F1</th>\n    </tr>\n  </thead>\n  <tbody>\n    <tr>\n      <th>0</th>\n      <td>0.05</td>\n      <td>0.943694</td>\n      <td>0.898785</td>\n      <td>0.946695</td>\n    </tr>\n    <tr>\n      <th>1</th>\n      <td>0.10</td>\n      <td>0.943694</td>\n      <td>0.898785</td>\n      <td>0.946695</td>\n    </tr>\n    <tr>\n      <th>2</th>\n      <td>0.15</td>\n      <td>0.943694</td>\n      <td>0.898785</td>\n      <td>0.946695</td>\n    </tr>\n    <tr>\n      <th>3</th>\n      <td>0.20</td>\n      <td>0.943694</td>\n      <td>0.898785</td>\n      <td>0.946695</td>\n    </tr>\n    <tr>\n      <th>4</th>\n      <td>0.25</td>\n      <td>0.943694</td>\n      <td>0.898785</td>\n      <td>0.946695</td>\n    </tr>\n    <tr>\n      <th>5</th>\n      <td>0.30</td>\n      <td>0.943694</td>\n      <td>0.898785</td>\n      <td>0.946695</td>\n    </tr>\n    <tr>\n      <th>6</th>\n      <td>0.35</td>\n      <td>0.952703</td>\n      <td>0.935065</td>\n      <td>0.953642</td>\n    </tr>\n    <tr>\n      <th>7</th>\n      <td>0.40</td>\n      <td>0.952703</td>\n      <td>0.935065</td>\n      <td>0.953642</td>\n    </tr>\n    <tr>\n      <th>8</th>\n      <td>0.45</td>\n      <td>0.952703</td>\n      <td>0.935065</td>\n      <td>0.953642</td>\n    </tr>\n    <tr>\n      <th>9</th>\n      <td>0.50</td>\n      <td>0.952703</td>\n      <td>0.935065</td>\n      <td>0.953642</td>\n    </tr>\n    <tr>\n      <th>10</th>\n      <td>0.55</td>\n      <td>0.952703</td>\n      <td>0.935065</td>\n      <td>0.953642</td>\n    </tr>\n    <tr>\n      <th>11</th>\n      <td>0.60</td>\n      <td>0.952703</td>\n      <td>0.935065</td>\n      <td>0.953642</td>\n    </tr>\n    <tr>\n      <th>12</th>\n      <td>0.65</td>\n      <td>0.952703</td>\n      <td>0.935065</td>\n      <td>0.953642</td>\n    </tr>\n    <tr>\n      <th>13</th>\n      <td>0.70</td>\n      <td>0.891892</td>\n      <td>1.000000</td>\n      <td>0.878788</td>\n    </tr>\n    <tr>\n      <th>14</th>\n      <td>0.75</td>\n      <td>0.891892</td>\n      <td>1.000000</td>\n      <td>0.878788</td>\n    </tr>\n    <tr>\n      <th>15</th>\n      <td>0.80</td>\n      <td>0.891892</td>\n      <td>1.000000</td>\n      <td>0.878788</td>\n    </tr>\n    <tr>\n      <th>16</th>\n      <td>0.85</td>\n      <td>0.891892</td>\n      <td>1.000000</td>\n      <td>0.878788</td>\n    </tr>\n    <tr>\n      <th>17</th>\n      <td>0.90</td>\n      <td>0.891892</td>\n      <td>1.000000</td>\n      <td>0.878788</td>\n    </tr>\n    <tr>\n      <th>18</th>\n      <td>0.95</td>\n      <td>0.891892</td>\n      <td>1.000000</td>\n      <td>0.878788</td>\n    </tr>\n  </tbody>\n</table>\n</div>"
     },
     "execution_count": 20,
     "metadata": {},
     "output_type": "execute_result"
    }
   ],
   "source": [
    "iterations = [0.05, 0.10, 0.15, 0.20, 0.25, 0.30, 0.35, 0.40, 0.45, 0.50, 0.55, 0.60, 0.65, 0.70, 0.75, 0.80, 0.85,\n",
    "              0.90, 0.95]\n",
    "cutoff_iterator(X=X_train_mm_u, y=y_train_u, iterations=iterations)"
   ],
   "metadata": {
    "collapsed": false
   }
  },
  {
   "cell_type": "code",
   "execution_count": 21,
   "outputs": [],
   "source": [
    "X_test_mm[['prob_survive', 'prob_die']] = knn.predict_proba(X_test_mm)\n",
    "X_test_mm['y_pred'] = np.where(X_test_mm['prob_die']>0.70, 1, 0)"
   ],
   "metadata": {
    "collapsed": false
   }
  },
  {
   "cell_type": "code",
   "execution_count": 22,
   "outputs": [
    {
     "name": "stdout",
     "output_type": "stream",
     "text": [
      "Precision:  0.4574468085106383\n",
      "f1_score:  0.5771812080536913\n"
     ]
    }
   ],
   "source": [
    "print('Precision: ',metrics.precision_score(y_test,X_test_mm['y_pred']))\n",
    "print('f1_score: ',metrics.f1_score(y_test,X_test_mm['y_pred']))"
   ],
   "metadata": {
    "collapsed": false
   }
  },
  {
   "cell_type": "markdown",
   "source": [
    "##### KNN model is not looking very promising, huge drop-off between train and test data for precision and f1_scores."
   ],
   "metadata": {
    "collapsed": false
   }
  },
  {
   "cell_type": "markdown",
   "source": [
    "### 8) Random Forests\n",
    "##### Under-sampling the raw X_train and y_train data. No scaling is needed when using Random Forest."
   ],
   "metadata": {
    "collapsed": false
   }
  },
  {
   "cell_type": "code",
   "execution_count": 53,
   "outputs": [
    {
     "data": {
      "text/plain": "0    222\n1    222\nName: DEATH, dtype: int64"
     },
     "execution_count": 53,
     "metadata": {},
     "output_type": "execute_result"
    }
   ],
   "source": [
    "under = RandomUnderSampler(sampling_strategy=1,\n",
    "                           random_state=42)  ### we want the majority to reduce till it is the size of the minority\n",
    "X_train_u_rf, y_train_u_rf = under.fit_resample(X_train, y_train)\n",
    "y_train_u_rf.value_counts()"
   ],
   "metadata": {
    "collapsed": false
   }
  },
  {
   "cell_type": "code",
   "execution_count": 25,
   "outputs": [
    {
     "name": "stdout",
     "output_type": "stream",
     "text": [
      "0.9156872909698996\n",
      "{'max_depth': 5, 'min_samples_leaf': 2, 'min_samples_split': 2, 'n_estimators': 100}\n"
     ]
    }
   ],
   "source": [
    "param_dict = {'n_estimators':[75,100,125],\n",
    "              'max_depth':[5,6,7,8],\n",
    "              'min_samples_split':[2,3,4],\n",
    "              'min_samples_leaf':[1,2,3]}\n",
    "grid_search(param_dict=param_dict,classifier_object=RandomForestClassifier(random_state=42),folds=10,X=X_train_u_rf,y=y_train_u_rf)"
   ],
   "metadata": {
    "collapsed": false
   }
  },
  {
   "cell_type": "code",
   "execution_count": 26,
   "outputs": [
    {
     "data": {
      "text/plain": "RandomForestClassifier(max_depth=5, min_samples_leaf=2, random_state=42)"
     },
     "execution_count": 26,
     "metadata": {},
     "output_type": "execute_result"
    }
   ],
   "source": [
    "rf = RandomForestClassifier(max_depth=5, n_estimators=100,min_samples_leaf=2,min_samples_split=2,random_state=42)\n",
    "rf.fit(X_train_u_rf, y_train_u_rf)"
   ],
   "metadata": {
    "collapsed": false
   }
  },
  {
   "cell_type": "code",
   "execution_count": 55,
   "outputs": [
    {
     "name": "stdout",
     "output_type": "stream",
     "text": [
      "Column DEATH doesn't exist\n",
      "Column prob_survive doesn't exist\n",
      "Column prob_die doesn't exist\n",
      "Column y_pred doesn't exist\n"
     ]
    }
   ],
   "source": [
    "drop(X_train_u_rf)"
   ],
   "metadata": {
    "collapsed": false
   }
  },
  {
   "cell_type": "code",
   "execution_count": 56,
   "outputs": [],
   "source": [
    "#### use predict proba to select best cut_off points\n",
    "X_train_u_rf[['prob_survive', 'prob_die']] = rf.predict_proba(X_train_u_rf)"
   ],
   "metadata": {
    "collapsed": false
   }
  },
  {
   "cell_type": "code",
   "execution_count": 57,
   "outputs": [
    {
     "data": {
      "text/plain": "    Cut_Off_Points  Accuracy  Precision        F1\n0             0.05  0.594595   0.552239  0.711538\n1             0.10  0.786036   0.700315  0.823748\n2             0.15  0.887387   0.816176  0.898785\n3             0.20  0.912162   0.850575  0.919255\n4             0.25  0.934685   0.887550  0.938429\n5             0.30  0.943694   0.902041  0.946467\n6             0.35  0.943694   0.902041  0.946467\n7             0.40  0.945946   0.905738  0.948498\n8             0.45  0.945946   0.909091  0.948276\n9             0.50  0.943694   0.908714  0.946004\n10            0.55  0.952703   0.927660  0.954048\n11            0.60  0.948198   0.930736  0.949227\n12            0.65  0.941441   0.937500  0.941704\n13            0.70  0.927928   0.952381  0.925926\n14            0.75  0.916667   0.964824  0.912114\n15            0.80  0.873874   0.966292  0.860000\n16            0.85  0.810811   0.992857  0.767956\n17            0.90  0.677928   1.000000  0.524917\n18            0.95  0.538288   1.000000  0.142259",
      "text/html": "<div>\n<style scoped>\n    .dataframe tbody tr th:only-of-type {\n        vertical-align: middle;\n    }\n\n    .dataframe tbody tr th {\n        vertical-align: top;\n    }\n\n    .dataframe thead th {\n        text-align: right;\n    }\n</style>\n<table border=\"1\" class=\"dataframe\">\n  <thead>\n    <tr style=\"text-align: right;\">\n      <th></th>\n      <th>Cut_Off_Points</th>\n      <th>Accuracy</th>\n      <th>Precision</th>\n      <th>F1</th>\n    </tr>\n  </thead>\n  <tbody>\n    <tr>\n      <th>0</th>\n      <td>0.05</td>\n      <td>0.594595</td>\n      <td>0.552239</td>\n      <td>0.711538</td>\n    </tr>\n    <tr>\n      <th>1</th>\n      <td>0.10</td>\n      <td>0.786036</td>\n      <td>0.700315</td>\n      <td>0.823748</td>\n    </tr>\n    <tr>\n      <th>2</th>\n      <td>0.15</td>\n      <td>0.887387</td>\n      <td>0.816176</td>\n      <td>0.898785</td>\n    </tr>\n    <tr>\n      <th>3</th>\n      <td>0.20</td>\n      <td>0.912162</td>\n      <td>0.850575</td>\n      <td>0.919255</td>\n    </tr>\n    <tr>\n      <th>4</th>\n      <td>0.25</td>\n      <td>0.934685</td>\n      <td>0.887550</td>\n      <td>0.938429</td>\n    </tr>\n    <tr>\n      <th>5</th>\n      <td>0.30</td>\n      <td>0.943694</td>\n      <td>0.902041</td>\n      <td>0.946467</td>\n    </tr>\n    <tr>\n      <th>6</th>\n      <td>0.35</td>\n      <td>0.943694</td>\n      <td>0.902041</td>\n      <td>0.946467</td>\n    </tr>\n    <tr>\n      <th>7</th>\n      <td>0.40</td>\n      <td>0.945946</td>\n      <td>0.905738</td>\n      <td>0.948498</td>\n    </tr>\n    <tr>\n      <th>8</th>\n      <td>0.45</td>\n      <td>0.945946</td>\n      <td>0.909091</td>\n      <td>0.948276</td>\n    </tr>\n    <tr>\n      <th>9</th>\n      <td>0.50</td>\n      <td>0.943694</td>\n      <td>0.908714</td>\n      <td>0.946004</td>\n    </tr>\n    <tr>\n      <th>10</th>\n      <td>0.55</td>\n      <td>0.952703</td>\n      <td>0.927660</td>\n      <td>0.954048</td>\n    </tr>\n    <tr>\n      <th>11</th>\n      <td>0.60</td>\n      <td>0.948198</td>\n      <td>0.930736</td>\n      <td>0.949227</td>\n    </tr>\n    <tr>\n      <th>12</th>\n      <td>0.65</td>\n      <td>0.941441</td>\n      <td>0.937500</td>\n      <td>0.941704</td>\n    </tr>\n    <tr>\n      <th>13</th>\n      <td>0.70</td>\n      <td>0.927928</td>\n      <td>0.952381</td>\n      <td>0.925926</td>\n    </tr>\n    <tr>\n      <th>14</th>\n      <td>0.75</td>\n      <td>0.916667</td>\n      <td>0.964824</td>\n      <td>0.912114</td>\n    </tr>\n    <tr>\n      <th>15</th>\n      <td>0.80</td>\n      <td>0.873874</td>\n      <td>0.966292</td>\n      <td>0.860000</td>\n    </tr>\n    <tr>\n      <th>16</th>\n      <td>0.85</td>\n      <td>0.810811</td>\n      <td>0.992857</td>\n      <td>0.767956</td>\n    </tr>\n    <tr>\n      <th>17</th>\n      <td>0.90</td>\n      <td>0.677928</td>\n      <td>1.000000</td>\n      <td>0.524917</td>\n    </tr>\n    <tr>\n      <th>18</th>\n      <td>0.95</td>\n      <td>0.538288</td>\n      <td>1.000000</td>\n      <td>0.142259</td>\n    </tr>\n  </tbody>\n</table>\n</div>"
     },
     "execution_count": 57,
     "metadata": {},
     "output_type": "execute_result"
    }
   ],
   "source": [
    "iterations = [0.05, 0.10, 0.15, 0.20, 0.25, 0.30, 0.35, 0.40, 0.45, 0.50, 0.55, 0.60, 0.65, 0.70, 0.75, 0.80, 0.85,\n",
    "              0.90, 0.95]\n",
    "cutoff_iterator(X=X_train_u_rf, y=y_train_u_rf, iterations=iterations, accuracy=[], precision=[], f1_score=[])"
   ],
   "metadata": {
    "collapsed": false
   }
  },
  {
   "cell_type": "code",
   "execution_count": 59,
   "outputs": [
    {
     "name": "stdout",
     "output_type": "stream",
     "text": [
      "Column DEATH doesn't exist\n"
     ]
    }
   ],
   "source": [
    "drop(X_test)"
   ],
   "metadata": {
    "collapsed": false
   }
  },
  {
   "cell_type": "code",
   "execution_count": 60,
   "outputs": [],
   "source": [
    "X_test[['prob_survive', 'prob_die']] = rf.predict_proba(X_test)\n",
    "X_test['y_pred'] = np.where(X_test['prob_die'] > 0.85, 1, 0)"
   ],
   "metadata": {
    "collapsed": false
   }
  },
  {
   "cell_type": "code",
   "execution_count": 61,
   "outputs": [
    {
     "name": "stdout",
     "output_type": "stream",
     "text": [
      "Precision:  0.574468085106383\n",
      "f1_score:  0.5294117647058822\n"
     ]
    }
   ],
   "source": [
    "print('Precision: ', metrics.precision_score(y_test, X_test['y_pred']))\n",
    "print('f1_score: ', metrics.f1_score(y_test, X_test['y_pred']))"
   ],
   "metadata": {
    "collapsed": false
   }
  },
  {
   "cell_type": "markdown",
   "source": [
    "### 9) Logistic Regression"
   ],
   "metadata": {
    "collapsed": false
   }
  },
  {
   "cell_type": "code",
   "execution_count": 62,
   "outputs": [
    {
     "name": "stdout",
     "output_type": "stream",
     "text": [
      "Column DEATH doesn't exist\n"
     ]
    }
   ],
   "source": [
    "drop(X_train_mm_u)"
   ],
   "metadata": {
    "collapsed": false
   }
  },
  {
   "cell_type": "code",
   "execution_count": 63,
   "outputs": [],
   "source": [
    "lr = LogisticRegression(max_iter=75,random_state=42)"
   ],
   "metadata": {
    "collapsed": false
   }
  },
  {
   "cell_type": "code",
   "execution_count": 64,
   "outputs": [
    {
     "data": {
      "text/plain": "LogisticRegression(max_iter=75, random_state=42)"
     },
     "execution_count": 64,
     "metadata": {},
     "output_type": "execute_result"
    }
   ],
   "source": [
    "lr.fit(X_train_mm_u,y_train_u)"
   ],
   "metadata": {
    "collapsed": false
   }
  },
  {
   "cell_type": "code",
   "execution_count": 65,
   "outputs": [],
   "source": [
    "X_train_mm_u[['prob_survive', 'prob_die']] = lr.predict_proba(X_train_mm_u)"
   ],
   "metadata": {
    "collapsed": false
   }
  },
  {
   "cell_type": "code",
   "execution_count": 66,
   "outputs": [
    {
     "data": {
      "text/plain": "    Cut_Off_Points  Accuracy  Precision        F1\n0             0.05  0.844595   0.762887  0.865497\n1             0.10  0.912162   0.853282  0.918919\n2             0.15  0.925676   0.873518  0.930526\n3             0.20  0.934685   0.890688  0.938166\n4             0.25  0.941441   0.901639  0.944206\n5             0.30  0.948198   0.912863  0.950324\n6             0.35  0.945946   0.912500  0.948052\n7             0.40  0.948198   0.919831  0.949891\n8             0.45  0.948198   0.923404  0.949672\n9             0.50  0.943694   0.930131  0.944568\n10            0.55  0.943694   0.933921  0.944321\n11            0.60  0.939189   0.937220  0.939326\n12            0.65  0.930180   0.936073  0.929705\n13            0.70  0.921171   0.934884  0.919908\n14            0.75  0.918919   0.951456  0.915888\n15            0.80  0.909910   0.950495  0.905660\n16            0.85  0.887387   0.957447  0.878049\n17            0.90  0.833333   0.962500  0.806283\n18            0.95  0.738739   0.973214  0.652695",
      "text/html": "<div>\n<style scoped>\n    .dataframe tbody tr th:only-of-type {\n        vertical-align: middle;\n    }\n\n    .dataframe tbody tr th {\n        vertical-align: top;\n    }\n\n    .dataframe thead th {\n        text-align: right;\n    }\n</style>\n<table border=\"1\" class=\"dataframe\">\n  <thead>\n    <tr style=\"text-align: right;\">\n      <th></th>\n      <th>Cut_Off_Points</th>\n      <th>Accuracy</th>\n      <th>Precision</th>\n      <th>F1</th>\n    </tr>\n  </thead>\n  <tbody>\n    <tr>\n      <th>0</th>\n      <td>0.05</td>\n      <td>0.844595</td>\n      <td>0.762887</td>\n      <td>0.865497</td>\n    </tr>\n    <tr>\n      <th>1</th>\n      <td>0.10</td>\n      <td>0.912162</td>\n      <td>0.853282</td>\n      <td>0.918919</td>\n    </tr>\n    <tr>\n      <th>2</th>\n      <td>0.15</td>\n      <td>0.925676</td>\n      <td>0.873518</td>\n      <td>0.930526</td>\n    </tr>\n    <tr>\n      <th>3</th>\n      <td>0.20</td>\n      <td>0.934685</td>\n      <td>0.890688</td>\n      <td>0.938166</td>\n    </tr>\n    <tr>\n      <th>4</th>\n      <td>0.25</td>\n      <td>0.941441</td>\n      <td>0.901639</td>\n      <td>0.944206</td>\n    </tr>\n    <tr>\n      <th>5</th>\n      <td>0.30</td>\n      <td>0.948198</td>\n      <td>0.912863</td>\n      <td>0.950324</td>\n    </tr>\n    <tr>\n      <th>6</th>\n      <td>0.35</td>\n      <td>0.945946</td>\n      <td>0.912500</td>\n      <td>0.948052</td>\n    </tr>\n    <tr>\n      <th>7</th>\n      <td>0.40</td>\n      <td>0.948198</td>\n      <td>0.919831</td>\n      <td>0.949891</td>\n    </tr>\n    <tr>\n      <th>8</th>\n      <td>0.45</td>\n      <td>0.948198</td>\n      <td>0.923404</td>\n      <td>0.949672</td>\n    </tr>\n    <tr>\n      <th>9</th>\n      <td>0.50</td>\n      <td>0.943694</td>\n      <td>0.930131</td>\n      <td>0.944568</td>\n    </tr>\n    <tr>\n      <th>10</th>\n      <td>0.55</td>\n      <td>0.943694</td>\n      <td>0.933921</td>\n      <td>0.944321</td>\n    </tr>\n    <tr>\n      <th>11</th>\n      <td>0.60</td>\n      <td>0.939189</td>\n      <td>0.937220</td>\n      <td>0.939326</td>\n    </tr>\n    <tr>\n      <th>12</th>\n      <td>0.65</td>\n      <td>0.930180</td>\n      <td>0.936073</td>\n      <td>0.929705</td>\n    </tr>\n    <tr>\n      <th>13</th>\n      <td>0.70</td>\n      <td>0.921171</td>\n      <td>0.934884</td>\n      <td>0.919908</td>\n    </tr>\n    <tr>\n      <th>14</th>\n      <td>0.75</td>\n      <td>0.918919</td>\n      <td>0.951456</td>\n      <td>0.915888</td>\n    </tr>\n    <tr>\n      <th>15</th>\n      <td>0.80</td>\n      <td>0.909910</td>\n      <td>0.950495</td>\n      <td>0.905660</td>\n    </tr>\n    <tr>\n      <th>16</th>\n      <td>0.85</td>\n      <td>0.887387</td>\n      <td>0.957447</td>\n      <td>0.878049</td>\n    </tr>\n    <tr>\n      <th>17</th>\n      <td>0.90</td>\n      <td>0.833333</td>\n      <td>0.962500</td>\n      <td>0.806283</td>\n    </tr>\n    <tr>\n      <th>18</th>\n      <td>0.95</td>\n      <td>0.738739</td>\n      <td>0.973214</td>\n      <td>0.652695</td>\n    </tr>\n  </tbody>\n</table>\n</div>"
     },
     "execution_count": 66,
     "metadata": {},
     "output_type": "execute_result"
    }
   ],
   "source": [
    "iterations = [0.05, 0.10, 0.15, 0.20, 0.25, 0.30, 0.35, 0.40, 0.45, 0.50, 0.55, 0.60, 0.65, 0.70, 0.75, 0.80, 0.85,\n",
    "              0.90, 0.95]\n",
    "cutoff_iterator(X=X_train_mm_u, y=y_train_u, iterations=iterations, accuracy=[], precision=[], f1_score=[])"
   ],
   "metadata": {
    "collapsed": false
   }
  },
  {
   "cell_type": "code",
   "execution_count": 67,
   "outputs": [
    {
     "name": "stdout",
     "output_type": "stream",
     "text": [
      "Column DEATH doesn't exist\n"
     ]
    }
   ],
   "source": [
    "drop(X_test_mm)"
   ],
   "metadata": {
    "collapsed": false
   }
  },
  {
   "cell_type": "code",
   "execution_count": 68,
   "outputs": [],
   "source": [
    "X_test_mm[['prob_survive', 'prob_die']] = lr.predict_proba(X_test_mm)\n",
    "X_test_mm['y_pred'] = np.where(X_test_mm['prob_die']>0.90, 1, 0)"
   ],
   "metadata": {
    "collapsed": false
   }
  },
  {
   "cell_type": "code",
   "execution_count": 69,
   "outputs": [
    {
     "data": {
      "text/plain": "0.4696969696969697"
     },
     "execution_count": 69,
     "metadata": {},
     "output_type": "execute_result"
    }
   ],
   "source": [
    "metrics.precision_score(y_test,X_test_mm['y_pred'])"
   ],
   "metadata": {
    "collapsed": false
   }
  },
  {
   "cell_type": "code",
   "execution_count": 70,
   "outputs": [
    {
     "data": {
      "text/plain": "0.5123966942148761"
     },
     "execution_count": 70,
     "metadata": {},
     "output_type": "execute_result"
    }
   ],
   "source": [
    "metrics.f1_score(y_test,X_test_mm['y_pred'])"
   ],
   "metadata": {
    "collapsed": false
   }
  },
  {
   "cell_type": "markdown",
   "source": [
    "### 10) Summary\n",
    "##### Out of these three models the Random Forest model did the best in terms of achieving the best precision and f1 scores on the test data, logistic regression took second place. However, all of the above models suffered from significant over-fitting. For the other notebooks, I will experiment thoroughly with Random Forest and Logistic Regression models only."
   ],
   "metadata": {
    "collapsed": false
   }
  },
  {
   "cell_type": "code",
   "execution_count": null,
   "outputs": [],
   "source": [],
   "metadata": {
    "collapsed": false
   }
  }
 ],
 "metadata": {
  "kernelspec": {
   "display_name": "Python 3",
   "language": "python",
   "name": "python3"
  },
  "language_info": {
   "codemirror_mode": {
    "name": "ipython",
    "version": 2
   },
   "file_extension": ".py",
   "mimetype": "text/x-python",
   "name": "python",
   "nbconvert_exporter": "python",
   "pygments_lexer": "ipython2",
   "version": "2.7.6"
  }
 },
 "nbformat": 4,
 "nbformat_minor": 0
}
